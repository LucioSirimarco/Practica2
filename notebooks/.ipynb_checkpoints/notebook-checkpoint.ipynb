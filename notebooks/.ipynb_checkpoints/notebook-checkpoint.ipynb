{
 "cells": [
  {
   "cell_type": "code",
   "execution_count": null,
   "id": "d2d4a281-addf-4552-838a-8e879424774f",
   "metadata": {},
   "outputs": [],
   "source": [
    "import sys\n",
    "import os\n",
    "sys.path.append(os.path.abspath(\".../src\")"
   ]
  },
  {
   "cell_type": "code",
   "execution_count": null,
   "id": "9b19463d-6a0d-4368-ae2e-1512e3f0dae3",
   "metadata": {},
   "outputs": [],
   "source": [
    "#Ejercicio 1\n",
    "zen_text = \"\"\"\n",
    "The Zen of Python, by Tim Peters\n",
    "\n",
    "Beautiful is better than ugly.\n",
    "Explicit is better than implicit.\n",
    "Simple is better than complex.\n",
    "Complex is better than complicated.\n",
    "Flat is better than nested.\n",
    "Sparse is better than dense.\n",
    "Readability counts.\n",
    "Special cases aren't special enough to break the rules.\n",
    "Although practicality beats purity.\n",
    "Errors should never pass silently.\n",
    "Unless explicitly silenced.\n",
    "In the face of ambiguity, refuse the temptation to guess.\n",
    "There should be one-- and preferably only one --obvious way to do it.\n",
    "Although that way may not be obvious at first unless you're Dutch.\n",
    "Now is better than never.\n",
    "Although never is often better than *right* now.\n",
    "If the implementation is hard to explain, it's a bad idea.\n",
    "If the implementation is easy to explain, it may be a good idea.\n",
    "Namespaces are one honking great idea -- let's do more of those!\n",
    "\"\"\"\n",
    "for line in zen_text.split(\"\\n\"):\n",
    "    words = line.split()\n",
    "    if len(words) > 1 and words[1][0] in \"AEIOUaeiou\":\n",
    "        print(line)"
   ]
  },
  {
   "cell_type": "code",
   "execution_count": null,
   "id": "d7f0ea9d-77cc-4342-a93e-df1e07b72ffb",
   "metadata": {},
   "outputs": [],
   "source": [
    "#Ejercicio 2\n",
    "titles = [\n",
    "\"Speedrun de Super Mario en tiempo récord\",\n",
    "\"Charla sobre desarrollo de videojuegos\",\n",
    "\"Jugando al nuevo FPS del momento con amigos\",\n",
    "\"Música en vivo: improvisaciones al piano\"\n",
    "]\n",
    "\n",
    "max = 0\n",
    "\n",
    "for text in titles:\n",
    "    words = text.split()\n",
    "    if len(words) > max:\n",
    "        max = len(words)\n",
    "        act = words\n",
    "print(act)"
   ]
  },
  {
   "cell_type": "code",
   "execution_count": null,
   "id": "c3ecec79-0b48-4417-a477-6ee9918f5605",
   "metadata": {},
   "outputs": [],
   "source": [
    "#Ejercicio 3\n",
    "rules = \"\"\"Respeta a los demás. No se permiten insultos ni lenguaje ofensivo.\n",
    "Evita el spam. No publiques enlaces sospechosos o repetitivos.\n",
    "No compartas información personal.\n",
    "Usa los canales adecuados para cada tema.\n",
    "Sigue las instrucciones de los moderadores.\"\"\"\n",
    "\n",
    "aux = input(\"Ingrese palabra clave: \")\n",
    "for line in rules.split(\"\\n\"):\n",
    "    word = line.split()\n",
    "    for act in word:\n",
    "        if act.lower() == aux.lower():\n",
    "            print(line)\n",
    "            break"
   ]
  },
  {
   "cell_type": "code",
   "execution_count": null,
   "id": "21aa05b7-9e12-433b-9f22-df05fb42794f",
   "metadata": {},
   "outputs": [],
   "source": [
    "#Ejercicio 4\n",
    "from src.ejercicio4 import check_username\n",
    "user = input(\"Ingresa un nombre de usuario:\")\n",
    "if check_username(user):\n",
    "    print(\"El nombre de usuario es válido.\")\n",
    "else:\n",
    "    print(\"El nombre de usuario no cumple con los requisitos\")"
   ]
  },
  {
   "cell_type": "code",
   "execution_count": null,
   "id": "20f72e9e-e0cd-49dd-ba74-71eacaaa4e91",
   "metadata": {},
   "outputs": [],
   "source": [
    "#Ejercicio 5\n",
    "velocidad = int (input(\"Ingrese la velocidad en ms: \"))\n",
    "if (velocidad < 200):\n",
    "    print(\"Categoria: rapido\")\n",
    "elif ( 200 < velocidad < 500 ):\n",
    "    print(\"Categoria: normal\")\n",
    "else:\n",
    "    print(\"Categoria: lento\")"
   ]
  },
  {
   "cell_type": "code",
   "execution_count": null,
   "id": "a9afe46b-53a3-41a0-a70e-5273a050093c",
   "metadata": {},
   "outputs": [],
   "source": [
    "#Ejercicio 6\n",
    "descriptions = [\n",
    "\"Streaming de música en vivo con covers y composiciones\",\n",
    "\"Charla interactiva con la audiencia sobre series y películas\",\n",
    "\"Jugamos a juegos retro y charlamos sobre su historia\",\n",
    "\"Exploramos la mejor música de los 80s y 90s\",\n",
    "\"Programa de entretenimiento con noticias y curiosidades del mundo gamer\",\n",
    "\"Sesión de charla con invitados especiales del mundo del streaming\",\n",
    "\"Música en directo con improvisaciones y peticiones del chat\",\n",
    "\"Un espacio para charlar relajada sobre tecnología y cultura digital\",\n",
    "\"Exploramos el impacto de la música en los videojuegos clásicos\"\n",
    "]\n",
    "\n",
    "mus = 0\n",
    "cha = 0\n",
    "ent = 0\n",
    "\n",
    "for line in descriptions:\n",
    "    word = line.split()\n",
    "    for act in word:\n",
    "     if (act.lower() == \"música\"):\n",
    "          mus = mus + 1\n",
    "          break\n",
    "     if (act.lower() == \"charla\"):\n",
    "          cha = cha + 1\n",
    "          break\n",
    "     if (act.lower() == \"entretenimiento\"):\n",
    "          ent = ent + 1\n",
    "          break\n",
    "print(f\"Menciones de 'música': {mus}\")\n",
    "print(f\"Menciones de 'charla': {cha}\")\n",
    "print(f\"Menciones de 'entretenimiento': {ent}\")"
   ]
  },
  {
   "cell_type": "code",
   "execution_count": null,
   "id": "538ef6d5-7e1e-4377-a8d0-871d44d6f218",
   "metadata": {},
   "outputs": [],
   "source": [
    "#Ejercicio 7\n",
    "import string\n",
    "import random\n",
    "name = input(\"Ingrese el nombre: \")\n",
    "while len(name) > 15:\n",
    "    name = input(\"Ingrese un nombre con menos de 15 letras\")\n",
    "fecha = input(\"Ingrese la fecha actual:\")\n",
    "aleatorio = ''.join(random.choices(string.ascii_uppercase + string.digits, k=15))\n",
    "codigo =  name + fecha + aleatorio\n",
    "print(f\"El codigo es: {codigo}\")"
   ]
  },
  {
   "cell_type": "code",
   "execution_count": null,
   "id": "f2466245-40e1-4fc1-a0ea-9b43e461cf29",
   "metadata": {},
   "outputs": [],
   "source": [
    "#Ejercicio 8\n",
    "primera = input(\"Ingrese la primera palabra: \")\n",
    "segunda = input(\"Ingrese la segunda palabra: \")\n",
    "\n",
    "if sorted(primera) == sorted(segunda):\n",
    "    print(\"Son anagramas\")\n",
    "else:\n",
    "    print(\"No son anagramas\")"
   ]
  },
  {
   "cell_type": "code",
   "execution_count": null,
   "id": "543ec79d-c53a-44b8-887f-4da960974a8e",
   "metadata": {},
   "outputs": [],
   "source": [
    "#Ejercicio 9\n",
    "clients = [\n",
    " \"  Ana López \", \"Pedro Gómez\", \"maria martínez\", \"Pedro Gómez \", \"\",\n",
    " \" Luis Rodríguez \", None, \"ana lópez\", \"JUAN PÉREZ\", \"MARTA SUÁREZ\",\n",
    " \"luis rodríguez\", \"maría martínez \", \" claudia torres\", \"CLAUDIA TORRES\",\n",
    " \"  \", \"pedro gómez\", \"Juan Pérez\", None, \"Ricardo Fernández\", \"LAURA RAMOS\",\n",
    " \"carlos mendes\", \"RICARDO FERNÁNDEZ  \", \" Laura ramos\", \"CARLOS MENDES\",\n",
    " \"alejandro gonzález\", \" ALEJANDRO GONZÁLEZ  \", \"Patricia Vega\",\n",
    " \"patricia VEGA\", \"Andrés Ocampo\", \"  andrés ocampo\", \"Monica Herrera\",\n",
    " \"MONICA HERRERA  \", \"gabriela ruíz\", \"Gabriela Ruíz\", \"sandra morales\",\n",
    " \"SANDRA MORALES\", \"miguel ángel\", \"Miguel Ángel \", \" Damián Castillo\",\n",
    " \"Damián Castillo  \", None, \"\", \"  \"\n",
    " ]\n",
    "newclients = [ aux.strip() for aux in clients if aux and aux.strip()]\n",
    "\n",
    "newclients = [ aux.title() for aux in newclients ]\n",
    "\n",
    "newclients = [ sorted(set(newclients)) ]\n",
    "\n",
    "print(newclients)"
   ]
  },
  {
   "cell_type": "code",
   "execution_count": null,
   "id": "41b7e8dd-08ca-479e-a4aa-b9ea271fd7cb",
   "metadata": {},
   "outputs": [],
   "source": []
  }
 ],
 "metadata": {
  "kernelspec": {
   "display_name": "Python 3 (ipykernel)",
   "language": "python",
   "name": "python3"
  },
  "language_info": {
   "codemirror_mode": {
    "name": "ipython",
    "version": 3
   },
   "file_extension": ".py",
   "mimetype": "text/x-python",
   "name": "python",
   "nbconvert_exporter": "python",
   "pygments_lexer": "ipython3",
   "version": "3.13.2"
  }
 },
 "nbformat": 4,
 "nbformat_minor": 5
}
